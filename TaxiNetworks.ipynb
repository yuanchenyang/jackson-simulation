{
 "cells": [
  {
   "cell_type": "markdown",
   "metadata": {
    "collapsed": true,
    "tags": [
     "worksheet-0"
    ]
   },
   "source": [
    "# Taxi Networks simulation\n",
    "\n",
    "In this notebook, we will demonstrate code that simulates the behavior of taxis\n",
    "in queueing networks. We are modeling this using a Jackson network, which models\n",
    "taxis as customers traveling in the network. Taxis queue at each station $i$,\n",
    "and are served by customers arriving at a rate of $\\mu_i$. After a customer\n",
    "gets on a taxi, it travels to another station $j$ with probability\n",
    "$r_{ij}$. We assume the taxis "
   ]
  },
  {
   "cell_type": "code",
   "execution_count": 18,
   "metadata": {
    "collapsed": false,
    "tags": [
     "worksheet-0"
    ]
   },
   "outputs": [
    {
     "name": "stdout",
     "output_type": "stream",
     "text": [
      "The autoreload extension is already loaded. To reload it, use:\n",
      "  %reload_ext autoreload\n"
     ]
    }
   ],
   "source": [
    "import numpy as np\n",
    "import scipy.linalg as la\n",
    "import scipy.stats as sps\n",
    "from matplotlib import pyplot as plt\n",
    "from simulation import *\n",
    "%matplotlib inline\n",
    "%load_ext autoreload\n",
    "%autoreload 2"
   ]
  },
  {
   "cell_type": "code",
   "execution_count": 19,
   "metadata": {
    "collapsed": false,
    "tags": [
     "worksheet-0"
    ]
   },
   "outputs": [],
   "source": [
    "test_nw = full_network(4, 1.1, 1, 10)"
   ]
  },
  {
   "cell_type": "code",
   "execution_count": 3,
   "metadata": {
    "collapsed": false,
    "tags": [
     "worksheet-0"
    ]
   },
   "outputs": [
    {
     "ename": "TypeError",
     "evalue": "this constructor takes no arguments",
     "output_type": "error",
     "traceback": [
      "\u001b[1;31m---------------------------------------------------------------------------\u001b[0m",
      "\u001b[1;31mTypeError\u001b[0m                                 Traceback (most recent call last)",
      "\u001b[1;32m<ipython-input-3-5c44a275d856>\u001b[0m in \u001b[0;36m<module>\u001b[1;34m()\u001b[0m\n\u001b[1;32m----> 1\u001b[1;33m \u001b[0mtest_nw\u001b[0m \u001b[1;33m=\u001b[0m \u001b[0mlinear_network\u001b[0m\u001b[1;33m(\u001b[0m\u001b[1;36m5\u001b[0m\u001b[1;33m,\u001b[0m \u001b[1;36m0.1\u001b[0m\u001b[1;33m,\u001b[0m \u001b[1;36m1\u001b[0m\u001b[1;33m,\u001b[0m \u001b[1;36m15\u001b[0m\u001b[1;33m)\u001b[0m\u001b[1;33m\u001b[0m\u001b[0m\n\u001b[0m\u001b[0;32m      2\u001b[0m \u001b[1;32mprint\u001b[0m \u001b[0mtest_nw\u001b[0m\u001b[1;33m.\u001b[0m\u001b[0mgraph\u001b[0m\u001b[1;33m[\u001b[0m\u001b[1;36m1\u001b[0m\u001b[1;33m]\u001b[0m\u001b[1;33m.\u001b[0m\u001b[0mr\u001b[0m\u001b[1;33m\u001b[0m\u001b[0m\n\u001b[0;32m      3\u001b[0m \u001b[1;32mprint\u001b[0m \u001b[0mtest_nw\u001b[0m\u001b[1;33m.\u001b[0m\u001b[0mgraph\u001b[0m\u001b[1;33m[\u001b[0m\u001b[1;36m4\u001b[0m\u001b[1;33m]\u001b[0m\u001b[1;33m.\u001b[0m\u001b[0mr\u001b[0m\u001b[1;33m\u001b[0m\u001b[0m\n",
      "\u001b[1;32m/home/chenyang/src/megacell/simulation/simulation.py\u001b[0m in \u001b[0;36mlinear_network\u001b[1;34m(k, psi, lam, n)\u001b[0m\n\u001b[0;32m    160\u001b[0m     to node i+1, with service rate psi.'''\n\u001b[0;32m    161\u001b[0m     \u001b[0mlam\u001b[0m\u001b[1;33m,\u001b[0m \u001b[0mpsi\u001b[0m \u001b[1;33m=\u001b[0m \u001b[0mmake_callable\u001b[0m\u001b[1;33m(\u001b[0m\u001b[0mlam\u001b[0m\u001b[1;33m)\u001b[0m\u001b[1;33m,\u001b[0m \u001b[0mmake_callable\u001b[0m\u001b[1;33m(\u001b[0m\u001b[0mpsi\u001b[0m\u001b[1;33m)\u001b[0m\u001b[1;33m\u001b[0m\u001b[0m\n\u001b[1;32m--> 162\u001b[1;33m     \u001b[0mnw\u001b[0m \u001b[1;33m=\u001b[0m \u001b[0mfull_network\u001b[0m\u001b[1;33m(\u001b[0m\u001b[0mk\u001b[0m\u001b[1;33m,\u001b[0m \u001b[0mlam\u001b[0m\u001b[1;33m,\u001b[0m \u001b[0mn\u001b[0m\u001b[1;33m=\u001b[0m\u001b[0mn\u001b[0m\u001b[1;33m)\u001b[0m\u001b[1;33m\u001b[0m\u001b[0m\n\u001b[0m\u001b[0;32m    163\u001b[0m     \u001b[1;32mfor\u001b[0m \u001b[0mi\u001b[0m\u001b[1;33m,\u001b[0m \u001b[0mnode\u001b[0m \u001b[1;32min\u001b[0m \u001b[0mnw\u001b[0m\u001b[1;33m.\u001b[0m\u001b[0mgraph\u001b[0m\u001b[1;33m.\u001b[0m\u001b[0mitems\u001b[0m\u001b[1;33m(\u001b[0m\u001b[1;33m)\u001b[0m\u001b[1;33m:\u001b[0m\u001b[1;33m\u001b[0m\u001b[0m\n\u001b[0;32m    164\u001b[0m         \u001b[1;32mif\u001b[0m \u001b[0mi\u001b[0m \u001b[1;33m==\u001b[0m \u001b[0mk\u001b[0m\u001b[1;33m-\u001b[0m\u001b[1;36m1\u001b[0m\u001b[1;33m:\u001b[0m \u001b[1;31m# Don't alter last node in chain\u001b[0m\u001b[1;33m\u001b[0m\u001b[0m\n",
      "\u001b[1;32m/home/chenyang/src/megacell/simulation/simulation.py\u001b[0m in \u001b[0;36mfull_network\u001b[1;34m(k, lam, n)\u001b[0m\n\u001b[0;32m    153\u001b[0m     \u001b[0mgraph\u001b[0m \u001b[1;33m=\u001b[0m \u001b[1;33m{\u001b[0m\u001b[1;33m}\u001b[0m\u001b[1;33m\u001b[0m\u001b[0m\n\u001b[0;32m    154\u001b[0m     \u001b[1;32mfor\u001b[0m \u001b[0mi\u001b[0m \u001b[1;32min\u001b[0m \u001b[0mrange\u001b[0m\u001b[1;33m(\u001b[0m\u001b[0mk\u001b[0m\u001b[1;33m)\u001b[0m\u001b[1;33m:\u001b[0m\u001b[1;33m\u001b[0m\u001b[0m\n\u001b[1;32m--> 155\u001b[1;33m         \u001b[0mgraph\u001b[0m\u001b[1;33m[\u001b[0m\u001b[0mi\u001b[0m\u001b[1;33m]\u001b[0m \u001b[1;33m=\u001b[0m \u001b[0mNode\u001b[0m\u001b[1;33m(\u001b[0m\u001b[0mlam\u001b[0m\u001b[1;33m,\u001b[0m \u001b[1;33m{\u001b[0m\u001b[0mj\u001b[0m\u001b[1;33m:\u001b[0m \u001b[0mprob\u001b[0m \u001b[1;32mfor\u001b[0m \u001b[0mj\u001b[0m \u001b[1;32min\u001b[0m \u001b[0mrange\u001b[0m\u001b[1;33m(\u001b[0m\u001b[0mk\u001b[0m\u001b[1;33m)\u001b[0m \u001b[1;32mif\u001b[0m \u001b[0mj\u001b[0m \u001b[1;33m!=\u001b[0m \u001b[0mi\u001b[0m\u001b[1;33m}\u001b[0m\u001b[1;33m,\u001b[0m \u001b[0mn\u001b[0m\u001b[1;33m)\u001b[0m\u001b[1;33m\u001b[0m\u001b[0m\n\u001b[0m\u001b[0;32m    156\u001b[0m     \u001b[1;32mreturn\u001b[0m \u001b[0mNetwork\u001b[0m\u001b[1;33m(\u001b[0m\u001b[0mk\u001b[0m\u001b[1;33m,\u001b[0m \u001b[0mgraph\u001b[0m\u001b[1;33m)\u001b[0m\u001b[1;33m\u001b[0m\u001b[0m\n\u001b[0;32m    157\u001b[0m \u001b[1;33m\u001b[0m\u001b[0m\n",
      "\u001b[1;31mTypeError\u001b[0m: this constructor takes no arguments"
     ]
    }
   ],
   "source": [
    "test_nw = linear_network(5, 0.1, 1, 15)\n",
    "print test_nw.graph[1].r\n",
    "print test_nw.graph[4].r"
   ]
  },
  {
   "cell_type": "code",
   "execution_count": 3,
   "metadata": {
    "collapsed": false,
    "tags": [
     "worksheet-0"
    ]
   },
   "outputs": [
    {
     "ename": "TypeError",
     "evalue": "'int' object is not iterable",
     "output_type": "error",
     "traceback": [
      "\u001b[1;31m---------------------------------------------------------------------------\u001b[0m",
      "\u001b[1;31mTypeError\u001b[0m                                 Traceback (most recent call last)",
      "\u001b[1;32m<ipython-input-3-607ce40e826c>\u001b[0m in \u001b[0;36m<module>\u001b[1;34m()\u001b[0m\n\u001b[1;32m----> 1\u001b[1;33m \u001b[0mnwx\u001b[0m \u001b[1;33m=\u001b[0m \u001b[0mtest_nw\u001b[0m\u001b[1;33m.\u001b[0m\u001b[0mas_networkx\u001b[0m\u001b[1;33m(\u001b[0m\u001b[1;33m)\u001b[0m\u001b[1;33m\u001b[0m\u001b[0m\n\u001b[0m",
      "\u001b[1;32m/home/chenyang/src/megacell/simulation/simulation.py\u001b[0m in \u001b[0;36mas_networkx\u001b[1;34m(self)\u001b[0m\n\u001b[0;32m     58\u001b[0m \u001b[1;33m\u001b[0m\u001b[0m\n\u001b[0;32m     59\u001b[0m         \u001b[1;32mfor\u001b[0m \u001b[0mnodeid\u001b[0m\u001b[1;33m,\u001b[0m \u001b[0mnode\u001b[0m \u001b[1;32min\u001b[0m \u001b[0mself\u001b[0m\u001b[1;33m.\u001b[0m\u001b[0mgraph\u001b[0m\u001b[1;33m.\u001b[0m\u001b[0mitems\u001b[0m\u001b[1;33m(\u001b[0m\u001b[1;33m)\u001b[0m\u001b[1;33m:\u001b[0m\u001b[1;33m\u001b[0m\u001b[0m\n\u001b[1;32m---> 60\u001b[1;33m             \u001b[1;32mfor\u001b[0m \u001b[0mnodeid_to\u001b[0m\u001b[1;33m,\u001b[0m \u001b[0mprob\u001b[0m \u001b[1;32min\u001b[0m \u001b[0mnode\u001b[0m\u001b[1;33m.\u001b[0m\u001b[0mr\u001b[0m\u001b[1;33m:\u001b[0m\u001b[1;33m\u001b[0m\u001b[0m\n\u001b[0m\u001b[0;32m     61\u001b[0m                 \u001b[0mG\u001b[0m\u001b[1;33m.\u001b[0m\u001b[0madd_edge\u001b[0m\u001b[1;33m(\u001b[0m\u001b[0mnodeid\u001b[0m\u001b[1;33m,\u001b[0m \u001b[0mnodeid_to\u001b[0m\u001b[1;33m,\u001b[0m \u001b[1;33m{\u001b[0m\u001b[1;34m'prob'\u001b[0m\u001b[1;33m:\u001b[0m \u001b[0mprob\u001b[0m\u001b[1;33m}\u001b[0m\u001b[1;33m)\u001b[0m\u001b[1;33m\u001b[0m\u001b[0m\n\u001b[0;32m     62\u001b[0m         \u001b[1;32mreturn\u001b[0m \u001b[0mG\u001b[0m\u001b[1;33m\u001b[0m\u001b[0m\n",
      "\u001b[1;31mTypeError\u001b[0m: 'int' object is not iterable"
     ]
    }
   ],
   "source": [
    "G = test_nw.as_networkx()"
   ]
  },
  {
   "cell_type": "code",
   "execution_count": 8,
   "metadata": {
    "collapsed": false,
    "tags": [
     "worksheet-0"
    ]
   },
   "outputs": [
    {
     "name": "stdout",
     "output_type": "stream",
     "text": [
      "[(0, 15), (1, 15), (2, 15), (3, 15), (4, 15)]\n",
      "[(0, 15), (1, 15), (2, 16), (3, 15), (4, 14)]\n",
      "[(0, 14), (1, 15), (2, 16), (3, 15), (4, 15)]\n",
      "[(0, 14), (1, 16), (2, 16), (3, 14), (4, 15)]\n",
      "[(0, 13), (1, 16), (2, 16), (3, 14), (4, 16)]\n"
     ]
    }
   ],
   "source": [
    "test_nw = linear_network(5, 0.1, 1, 15)\n",
    "print [(nid, node.n) for nid, node in test_nw.graph.items()]\n",
    "test_nw.tick()\n",
    "print [(nid, node.n) for nid, node in test_nw.graph.items()]\n",
    "test_nw.tick()\n",
    "print [(nid, node.n) for nid, node in test_nw.graph.items()]\n",
    "test_nw.tick()\n",
    "print [(nid, node.n) for nid, node in test_nw.graph.items()]\n",
    "test_nw.tick()\n",
    "print [(nid, node.n) for nid, node in test_nw.graph.items()]\n"
   ]
  },
  {
   "cell_type": "code",
   "execution_count": 3,
   "metadata": {
    "collapsed": false,
    "tags": [
     "worksheet-0"
    ]
   },
   "outputs": [
    {
     "data": {
      "text/plain": [
       "<matplotlib.figure.Figure at 0x7fa8bcad2750>"
      ]
     },
     "metadata": {},
     "output_type": "display_data"
    },
    {
     "name": "stdout",
     "output_type": "stream",
     "text": [
      "[9.2087000000000003, 28.801200000000001, 49.077500000000001, 128.8244, 77.412700000000001, 64.784499999999994, 99.701499999999996, 77.670000000000002, 84.765199999999993, 379.7543]\n"
     ]
    }
   ],
   "source": [
    "from collections import Counter\n",
    "\n",
    "test_nw = linear_network(10, 1, 1, 100)\n",
    "counts = []\n",
    "steps = 10000\n",
    "\n",
    "for _ in range(steps):\n",
    "    test_nw.tick()\n",
    "    counts.append(test_nw.get_counts()[1])\n",
    "\n",
    "x = range(steps)\n",
    "for y in zip(*counts):\n",
    "    plt.plot(x, y)\n",
    "\n",
    "print map(np.mean, zip(*counts))"
   ]
  },
  {
   "cell_type": "markdown",
   "metadata": {
    "collapsed": true,
    "tags": [
     "worksheet-0"
    ]
   },
   "source": [
    "# Sandbox for math"
   ]
  },
  {
   "cell_type": "code",
   "execution_count": 5,
   "metadata": {
    "collapsed": false,
    "tags": [
     "worksheet-0"
    ]
   },
   "outputs": [
    {
     "name": "stdout",
     "output_type": "stream",
     "text": [
      "[[ 0.       0.24998  0.24998  0.24998  0.25   ]\n",
      " [ 0.25007  0.       0.24998  0.24998  0.25   ]\n",
      " [ 0.24998  0.25007  0.       0.24998  0.25   ]\n",
      " [ 0.24998  0.24998  0.25007  0.       0.25   ]\n",
      " [ 0.24998  0.24998  0.24998  0.25007  0.     ]]\n",
      "[ 0.99984002+0.j  0.99992000+0.j  0.99992001+0.j  0.99992001+0.j\n",
      "  1.00000000+0.j]\n",
      "[ 29.93806828  29.99995281  29.99995777  29.99995777  30.06206337]\n"
     ]
    },
    {
     "name": "stderr",
     "output_type": "stream",
     "text": [
      "/usr/lib/python2.7/site-packages/IPython/kernel/__main__.py:27: ComplexWarning: Casting complex values to real discards the imaginary part\n"
     ]
    }
   ],
   "source": [
    "def mva(v, mu, n):\n",
    "    dim = len(v)\n",
    "    gamma = v / mu\n",
    "    L = np.zeros(dim)\n",
    "    for k in range(1, n+1):\n",
    "        L1 = np.ones(dim) + L\n",
    "        f = k / float(gamma.dot(L1))\n",
    "        L = f * gamma * L1\n",
    "    return L\n",
    "\n",
    "def get_first_evac(m):\n",
    "    evals, evecs = la.eig(m, right=True)\n",
    "    max_index = max(enumerate(evals), key=lambda x: abs(x[1]))[0]\n",
    "    return evecs[:,max_index]\n",
    "\n",
    "p_real = 1\n",
    "p_virt = 0.0001\n",
    "n = 5\n",
    "m = linear_network(n, p_virt, p_real, 0).to_matrix()\n",
    "mu = [(p_real + p_virt)]*(n-1) + [p_real]\n",
    "print np.round(m, 5)\n",
    "\n",
    "first_evec = get_first_evac(m)\n",
    "first_evec /= first_evec[-1]\n",
    "\n",
    "print first_evec / mu\n",
    "first_evec = first_evec.astype(float)\n",
    "print mva(first_evec, mu, n*30)"
   ]
  },
  {
   "cell_type": "code",
   "execution_count": 6,
   "metadata": {
    "collapsed": false,
    "tags": [
     "worksheet-0"
    ]
   },
   "outputs": [
    {
     "name": "stdout",
     "output_type": "stream",
     "text": [
      "[ 0.25+0.j  0.50+0.j  0.75+0.j  1.00+0.j  1.00+0.j]\n"
     ]
    }
   ],
   "source": [
    "m = np.array([[0,0,0,0,0.25], [1,0,0,0,0.25], [0,1,0,0,0.25], [0,0,1,0,0.25], [0,0,0,1,0]])\n",
    "\n",
    "first_evec = get_first_evac(m)\n",
    "first_evec /= first_evec[-1]\n",
    "print first_evec\n"
   ]
  }
 ],
 "metadata": {
  "kernelspec": {
   "display_name": "Python 2",
   "language": "python2",
   "name": "python2"
  },
  "language_info": {
   "codemirror_mode": {
    "name": "ipython",
    "version": 2
   },
   "file_extension": ".py",
   "mimetype": "text/x-python",
   "name": "python",
   "nbconvert_exporter": "python",
   "pygments_lexer": "ipython2",
   "version": "2.7.10"
  },
  "name": "TaxiNetworks.ipynb"
 },
 "nbformat": 4,
 "nbformat_minor": 0
}
