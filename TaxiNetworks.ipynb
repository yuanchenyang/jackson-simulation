{
 "cells": [
  {
   "cell_type": "markdown",
   "metadata": {
    "collapsed": true,
    "tags": [
     "worksheet-0"
    ]
   },
   "source": [
    "# Taxi Networks simulation\n",
    "\n",
    "In this notebook, we will demonstrate code that simulates the behavior of taxis\n",
    "in queueing networks. We are modeling this using a Jackson network, which models\n",
    "taxis as customers traveling in the network. Taxis queue at each station $i$,\n",
    "and are served by customers arriving at a rate of $\\mu_i$. After a customer\n",
    "gets on a taxi, it travels to another station $j$ with probability\n",
    "$r_{ij}$. We assume the taxis "
   ]
  },
  {
   "cell_type": "code",
   "execution_count": 12,
   "metadata": {
    "collapsed": false,
    "tags": [
     "worksheet-0"
    ]
   },
   "outputs": [],
   "source": [
    "import numpy as np\n",
    "import scipy.linalg as la\n",
    "import scipy.stats as sps\n",
    "import networkx as nx\n",
    "from matplotlib import pyplot as plt\n",
    "from simulation import *\n",
    "%matplotlib inline\n",
    "%load_ext autoreload\n",
    "%autoreload 2"
   ]
  },
  {
   "cell_type": "code",
   "execution_count": 13,
   "metadata": {
    "collapsed": false,
    "tags": [
     "worksheet-0"
    ]
   },
   "outputs": [
    {
     "name": "stdout",
     "output_type": "stream",
     "text": [
      "alpha defaultdict(<type 'int'>, {'0->1': 1})\n",
      "alpha defaultdict(<type 'int'>, {'1->2': 1})\n"
     ]
    }
   ],
   "source": [
    "# create a dense network with 3 nodes, same customer arrival rate 1.1 at each node, \n",
    "# and same travel time of 1, and initialized with 10 cars at each station. \n",
    "test_full_nw = full_network(3, 1.1, 1, 10)\n",
    "\n",
    "# creates graph representing the queuing system\n",
    "test_full_nw.write_graphviz('full.dot')\n",
    "\n",
    "# creates a network with the same parameters as above\n",
    "# with rate of attacks = 1 at each node, \n",
    "# and with transition probabilities from station i to i+1 equal to 1.\n",
    "test_nw = l_to_r_attack(3, 1.1, 1, 10, 1)\n",
    "test_nw.write_graphviz('l2r.dot')\n",
    "\n",
    "r_to_l_attack(3, 1.1, 0.1, 100, 0.1).write_graphviz('r2l.dot')"
   ]
  },
  {
   "cell_type": "code",
   "execution_count": 11,
   "metadata": {
    "collapsed": false,
    "tags": [
     "worksheet-0"
    ]
   },
   "outputs": [
    {
     "name": "stdout",
     "output_type": "stream",
     "text": [
      "{'0->2': 0.2619047619047619, '0->1': 0.7380952380952381}\n",
      "{'1->0': 0.2619047619047619, '1->2': 0.7380952380952381}\n",
      "{'2->1': 0.5, '2->0': 0.5}\n",
      "2\n",
      "1\n",
      "1\n",
      "0\n",
      "0\n",
      "2\n"
     ]
    }
   ],
   "source": [
    "# check the parameters of the network.\n",
    "for node in test_nw.graph.values():\n",
    "    if isinstance(node, StationNode):\n",
    "        print node.r\n",
    "    else:\n",
    "        print node.rid\n"
   ]
  },
  {
   "cell_type": "code",
   "execution_count": 14,
   "metadata": {
    "collapsed": false,
    "tags": [
     "worksheet-0"
    ]
   },
   "outputs": [
    {
     "name": "stdout",
     "output_type": "stream",
     "text": [
      "[(0, 10), (1, 10), (2, 10), ('0->2', 0), ('0->1', 0), ('2->1', 0), ('1->0', 0), ('2->0', 0), ('1->2', 0)]\n",
      "[(0, 10), (1, 10), (2, 9), ('0->2', 0), ('0->1', 0), ('2->1', 1), ('1->0', 0), ('2->0', 0), ('1->2', 0)]\n",
      "[(0, 9), (1, 10), (2, 9), ('0->2', 0), ('0->1', 1), ('2->1', 1), ('1->0', 0), ('2->0', 0), ('1->2', 0)]\n",
      "[(0, 9), (1, 10), (2, 8), ('0->2', 0), ('0->1', 1), ('2->1', 2), ('1->0', 0), ('2->0', 0), ('1->2', 0)]\n",
      "[(0, 8), (1, 10), (2, 8), ('0->2', 1), ('0->1', 1), ('2->1', 2), ('1->0', 0), ('2->0', 0), ('1->2', 0)]\n"
     ]
    }
   ],
   "source": [
    "# print the state of the network at each jump\n",
    "test_nw = l_to_r_attack(2, 1.1, 1, 10, 1)\n",
    "for _ in range(5):\n",
    "    test_nw.jump()\n",
    "    print test_nw.get_last_history()"
   ]
  },
  {
   "cell_type": "code",
   "execution_count": 8,
   "metadata": {
    "collapsed": false,
    "tags": [
     "worksheet-0"
    ]
   },
   "outputs": [
    {
     "name": "stdout",
     "output_type": "stream",
     "text": [
      "[9.0674700000000001, 73.431759999999997, 54.467019999999998, 52.144159999999999, 252.78684999999999]\n"
     ]
    },
    {
     "data": {
      "image/png": "[encoded data removed]",
      "text/plain": [
       "<matplotlib.figure.Figure at 0x10fb41bd0>"
      ]
     },
     "metadata": {},
     "output_type": "display_data"
    }
   ],
   "source": [
    "from collections import Counter\n",
    "\n",
    "test_nw = r_to_l_attack(3, 1.1, 0.1, 100, 0.1)\n",
    "\n",
    "times, counts, loss = simulate(test_nw, 100000)\n",
    "for y in zip(*counts):\n",
    "    plt.plot(times, y)\n",
    "    \n",
    "plt.ylabel('Number of vehicles at each station')\n",
    "plt.xlabel('Time')\n",
    "plt.show()\n",
    "print 'Mean counts: ', map(np.mean, zip(*counts))\n",
    "\n",
    "for y in zip(*loss):\n",
    "    plt.plot(times, y)\n",
    "plt.ylabel('Number of customers lost at each station')\n",
    "plt.xlabel('Time')\n",
    "plt.show()\n",
    "print 'Mean losses: ', map(np.mean, zip(*loss))"
   ]
  },
  {
   "cell_type": "markdown",
   "metadata": {
    "collapsed": true,
    "tags": [
     "worksheet-0"
    ]
   },
   "source": [
    "# Sandbox for math"
   ]
  },
  {
   "cell_type": "code",
   "execution_count": 5,
   "metadata": {
    "collapsed": false,
    "tags": [
     "worksheet-0"
    ]
   },
   "outputs": [
    {
     "name": "stderr",
     "output_type": "stream",
     "text": [
      "/usr/lib/python2.7/site-packages/IPython/kernel/__main__.py:27: ComplexWarning: Casting complex values to real discards the imaginary part\n"
     ]
    },
    {
     "name": "stdout",
     "output_type": "stream",
     "text": [
      "[[ 0.       0.24998  0.24998  0.24998  0.25   ]\n",
      " [ 0.25007  0.       0.24998  0.24998  0.25   ]\n",
      " [ 0.24998  0.25007  0.       0.24998  0.25   ]\n",
      " [ 0.24998  0.24998  0.25007  0.       0.25   ]\n",
      " [ 0.24998  0.24998  0.24998  0.25007  0.     ]]\n",
      "[ 0.99984002+0.j  0.99992000+0.j  0.99992001+0.j  0.99992001+0.j\n",
      "  1.00000000+0.j]\n",
      "[ 29.93806828  29.99995281  29.99995777  29.99995777  30.06206337]\n"
     ]
    }
   ],
   "source": [
    "def mva(v, mu, n):\n",
    "    dim = len(v)\n",
    "    gamma = v / mu\n",
    "    L = np.zeros(dim)\n",
    "    for k in range(1, n+1):\n",
    "        L1 = np.ones(dim) + L\n",
    "        f = k / float(gamma.dot(L1))\n",
    "        L = f * gamma * L1\n",
    "    return L\n",
    "\n",
    "def get_first_evac(m):\n",
    "    evals, evecs = la.eig(m, right=True)\n",
    "    max_index = max(enumerate(evals), key=lambda x: abs(x[1]))[0]\n",
    "    return evecs[:,max_index]\n",
    "\n",
    "p_real = 1\n",
    "p_virt = 0.0001\n",
    "n = 5\n",
    "m = linear_network(n, p_virt, p_real, 0).to_matrix()\n",
    "mu = [(p_real + p_virt)]*(n-1) + [p_real]\n",
    "print np.round(m, 5)\n",
    "\n",
    "first_evec = get_first_evac(m)\n",
    "first_evec /= first_evec[-1]\n",
    "\n",
    "print first_evec / mu\n",
    "first_evec = first_evec.astype(float)\n",
    "print mva(first_evec, mu, n*30)"
   ]
  },
  {
   "cell_type": "code",
   "execution_count": 6,
   "metadata": {
    "collapsed": false,
    "tags": [
     "worksheet-0"
    ]
   },
   "outputs": [
    {
     "name": "stdout",
     "output_type": "stream",
     "text": [
      "[ 0.25+0.j  0.50+0.j  0.75+0.j  1.00+0.j  1.00+0.j]\n"
     ]
    }
   ],
   "source": [
    "m = np.array([[0,0,0,0,0.25], [1,0,0,0,0.25], [0,1,0,0,0.25], [0,0,1,0,0.25], [0,0,0,1,0]])\n",
    "\n",
    "first_evec = get_first_evac(m)\n",
    "first_evec /= first_evec[-1]\n",
    "print first_evec\n"
   ]
  }
 ],
 "metadata": {
  "kernelspec": {
   "display_name": "Python 2",
   "language": "python2",
   "name": "python2"
  },
  "language_info": {
   "codemirror_mode": {
    "name": "ipython",
    "version": 2
   },
   "file_extension": ".py",
   "mimetype": "text/x-python",
   "name": "python",
   "nbconvert_exporter": "python",
   "pygments_lexer": "ipython2",
   "version": "2.7.10"
  },
  "name": "TaxiNetworks.ipynb"
 },
 "nbformat": 4,
 "nbformat_minor": 0
}
