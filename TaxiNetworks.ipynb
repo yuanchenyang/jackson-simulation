{
 "cells": [
  {
   "cell_type": "markdown",
   "metadata": {
    "collapsed": true,
    "tags": [
     "worksheet-0"
    ]
   },
   "source": [
    "# Taxi Networks simulation\n",
    "\n",
    "In this notebook, we will demonstrate code that simulates the behavior of taxis\n",
    "in queueing networks. We are modeling this using a Jackson network, which models\n",
    "taxis as customers traveling in the network. Taxis queue at each station $i$,\n",
    "and are served by customers arriving at a rate of $\\mu_i$. After a customer\n",
    "gets on a taxi, it travels to another station $j$ with probability\n",
    "$r_{ij}$. We assume the taxis "
   ]
  },
  {
   "cell_type": "code",
   "execution_count": 1,
   "metadata": {
    "collapsed": false,
    "tags": [
     "worksheet-0"
    ]
   },
   "outputs": [],
   "source": [
    "import numpy as np\n",
    "import scipy.linalg as la\n",
    "import scipy.stats as sps\n",
    "from matplotlib import pyplot as plt\n",
    "from simulation import *\n",
    "%matplotlib inline"
   ]
  },
  {
   "cell_type": "code",
   "execution_count": 2,
   "metadata": {
    "collapsed": false,
    "tags": [
     "worksheet-0"
    ]
   },
   "outputs": [
    {
     "name": "stdout",
     "output_type": "stream",
     "text": [
      "{0: 0.22727272727272727, 2: 0.3181818181818182, 3: 0.22727272727272727, 4: 0.22727272727272727}\n",
      "{0: 0.25, 1: 0.25, 2: 0.25, 3: 0.25}\n"
     ]
    }
   ],
   "source": [
    "test_nw = linear_network(5, 0.1, 1, 15)\n",
    "print test_nw.graph[1].r\n",
    "print test_nw.graph[4].r"
   ]
  },
  {
   "cell_type": "code",
   "execution_count": 8,
   "metadata": {
    "collapsed": false,
    "tags": [
     "worksheet-0"
    ]
   },
   "outputs": [
    {
     "name": "stdout",
     "output_type": "stream",
     "text": [
      "[(0, 15), (1, 15), (2, 15), (3, 15), (4, 15)]\n",
      "[(0, 15), (1, 15), (2, 16), (3, 15), (4, 14)]\n",
      "[(0, 14), (1, 15), (2, 16), (3, 15), (4, 15)]\n",
      "[(0, 14), (1, 16), (2, 16), (3, 14), (4, 15)]\n",
      "[(0, 13), (1, 16), (2, 16), (3, 14), (4, 16)]\n"
     ]
    }
   ],
   "source": [
    "test_nw = linear_network(5, 0.1, 1, 15)\n",
    "print [(nid, node.n) for nid, node in test_nw.graph.items()]\n",
    "test_nw.tick()\n",
    "print [(nid, node.n) for nid, node in test_nw.graph.items()]\n",
    "test_nw.tick()\n",
    "print [(nid, node.n) for nid, node in test_nw.graph.items()]\n",
    "test_nw.tick()\n",
    "print [(nid, node.n) for nid, node in test_nw.graph.items()]\n",
    "test_nw.tick()\n",
    "print [(nid, node.n) for nid, node in test_nw.graph.items()]\n"
   ]
  },
  {
   "cell_type": "code",
   "execution_count": 3,
   "metadata": {
    "collapsed": false,
    "tags": [
     "worksheet-0"
    ]
   },
   "outputs": [
    {
     "data": {
      "text/plain": [
       "<matplotlib.figure.Figure at 0x7fa8bcad2750>"
      ]
     },
     "metadata": {},
     "output_type": "display_data"
    },
    {
     "name": "stdout",
     "output_type": "stream",
     "text": [
      "[9.2087000000000003, 28.801200000000001, 49.077500000000001, 128.8244, 77.412700000000001, 64.784499999999994, 99.701499999999996, 77.670000000000002, 84.765199999999993, 379.7543]\n"
     ]
    }
   ],
   "source": [
    "from collections import Counter\n",
    "\n",
    "test_nw = linear_network(10, 1, 1, 100)\n",
    "counts = []\n",
    "steps = 10000\n",
    "\n",
    "for _ in range(steps):\n",
    "    test_nw.tick()\n",
    "    counts.append(test_nw.get_counts()[1])\n",
    "\n",
    "x = range(steps)\n",
    "for y in zip(*counts):\n",
    "    plt.plot(x, y)\n",
    "\n",
    "print map(np.mean, zip(*counts))"
   ]
  },
  {
   "cell_type": "markdown",
   "metadata": {
    "collapsed": true,
    "tags": [
     "worksheet-0"
    ]
   },
   "source": [
    "# Sandbox for math"
   ]
  },
  {
   "cell_type": "code",
   "execution_count": 5,
   "metadata": {
    "collapsed": false,
    "tags": [
     "worksheet-0"
    ]
   },
   "outputs": [
    {
     "name": "stdout",
     "output_type": "stream",
     "text": [
      "[[ 0.       0.24998  0.24998  0.24998  0.25   ]\n",
      " [ 0.25007  0.       0.24998  0.24998  0.25   ]\n",
      " [ 0.24998  0.25007  0.       0.24998  0.25   ]\n",
      " [ 0.24998  0.24998  0.25007  0.       0.25   ]\n",
      " [ 0.24998  0.24998  0.24998  0.25007  0.     ]]\n",
      "[ 0.99984002+0.j  0.99992000+0.j  0.99992001+0.j  0.99992001+0.j\n",
      "  1.00000000+0.j]\n",
      "[ 29.93806828  29.99995281  29.99995777  29.99995777  30.06206337]\n"
     ]
    },
    {
     "name": "stderr",
     "output_type": "stream",
     "text": [
      "/usr/lib/python2.7/site-packages/IPython/kernel/__main__.py:27: ComplexWarning: Casting complex values to real discards the imaginary part\n"
     ]
    }
   ],
   "source": [
    "def mva(v, mu, n):\n",
    "    dim = len(v)\n",
    "    gamma = v / mu\n",
    "    L = np.zeros(dim)\n",
    "    for k in range(1, n+1):\n",
    "        L1 = np.ones(dim) + L\n",
    "        f = k / float(gamma.dot(L1))\n",
    "        L = f * gamma * L1\n",
    "    return L\n",
    "\n",
    "def get_first_evac(m):\n",
    "    evals, evecs = la.eig(m, right=True)\n",
    "    max_index = max(enumerate(evals), key=lambda x: abs(x[1]))[0]\n",
    "    return evecs[:,max_index]\n",
    "\n",
    "p_real = 1\n",
    "p_virt = 0.0001\n",
    "n = 5\n",
    "m = linear_network(n, p_virt, p_real, 0).to_matrix()\n",
    "mu = [(p_real + p_virt)]*(n-1) + [p_real]\n",
    "print np.round(m, 5)\n",
    "\n",
    "first_evec = get_first_evac(m)\n",
    "first_evec /= first_evec[-1]\n",
    "\n",
    "print first_evec / mu\n",
    "first_evec = first_evec.astype(float)\n",
    "print mva(first_evec, mu, n*30)"
   ]
  },
  {
   "cell_type": "code",
   "execution_count": 6,
   "metadata": {
    "collapsed": false,
    "tags": [
     "worksheet-0"
    ]
   },
   "outputs": [
    {
     "name": "stdout",
     "output_type": "stream",
     "text": [
      "[ 0.25+0.j  0.50+0.j  0.75+0.j  1.00+0.j  1.00+0.j]\n"
     ]
    }
   ],
   "source": [
    "m = np.array([[0,0,0,0,0.25], [1,0,0,0,0.25], [0,1,0,0,0.25], [0,0,1,0,0.25], [0,0,0,1,0]])\n",
    "\n",
    "first_evec = get_first_evac(m)\n",
    "first_evec /= first_evec[-1]\n",
    "print first_evec\n"
   ]
  }
 ],
 "metadata": {
  "kernelspec": {
   "display_name": "Python 2",
   "language": "python",
   "name": "python2"
  },
  "language_info": {
   "codemirror_mode": {
    "name": "ipython",
    "version": 2
   },
   "file_extension": ".py",
   "mimetype": "text/x-python",
   "name": "python",
   "nbconvert_exporter": "python",
   "pygments_lexer": "ipython2",
   "version": "2.7.10"
  },
  "name": "TaxiNetworks.ipynb"
 },
 "nbformat": 4,
 "nbformat_minor": 0
}
