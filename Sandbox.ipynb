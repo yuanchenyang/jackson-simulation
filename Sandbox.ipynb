{
 "cells": [
  {
   "cell_type": "code",
   "execution_count": 3,
   "metadata": {
    "collapsed": false,
    "tags": [
     "worksheet-0"
    ]
   },
   "outputs": [
    {
     "name": "stdout",
     "output_type": "stream",
     "text": [
      "Using matplotlib backend: GTKAgg\n",
      "Populating the interactive namespace from numpy and matplotlib\n"
     ]
    }
   ],
   "source": [
    "%pylab\n",
    "%matplotlib inline\n",
    "\n",
    "import sympy as sp"
   ]
  },
  {
   "cell_type": "code",
   "execution_count": 4,
   "metadata": {
    "collapsed": false,
    "tags": [
     "worksheet-0"
    ]
   },
   "outputs": [],
   "source": [
    "p10, p20, p01, A, al =  sp.symbols('p10 p20 p01 A al')"
   ]
  },
  {
   "cell_type": "code",
   "execution_count": 21,
   "metadata": {
    "collapsed": false,
    "tags": [
     "worksheet-0"
    ]
   },
   "outputs": [],
   "source": [
    "a = -p10/(1 + A)\n",
    "b = -p20/(1 + A)\n",
    "c = p10/(1 + A)  - 1 / (A * al + p01)\n",
    "d = p20/(1 + A) - (1 - p20) / (A * al + p01)\n",
    "gam02 = a*d/c - b\n",
    "gam12 = -d/c"
   ]
  },
  {
   "cell_type": "code",
   "execution_count": 26,
   "metadata": {
    "collapsed": false,
    "tags": [
     "worksheet-0"
    ]
   },
   "outputs": [
    {
     "name": "stdout",
     "output_type": "stream",
     "text": [
      "(-p10*p20 + p10 - p20)/(A*al*p10 - A + p01*p10 - 1)\n"
     ]
    }
   ],
   "source": [
    "p = sp.symbols('p')\n",
    "print sp.simplify(gam02)"
   ]
  },
  {
   "cell_type": "code",
   "execution_count": null,
   "metadata": {
    "collapsed": false,
    "tags": [
     "worksheet-0"
    ]
   },
   "outputs": [],
   "source": [
    "x = np.linspace(0, 1, 100)\n",
    "y0 = gam02.subs([(p01, 0.5), (p10, 0.1), (p20, 0.5), (A, 1)])\n",
    "y1 = gam12.subs([(p01, 0.5), (p10, 0.1), (p20, 0.5), (A, 1)])"
   ]
  }
 ],
 "metadata": {},
 "nbformat": 4,
 "nbformat_minor": 0
}
